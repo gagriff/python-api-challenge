{
 "cells": [
  {
   "cell_type": "markdown",
   "metadata": {},
   "source": [
    "# WeatherPy\n",
    "----\n",
    "\n",
    "#### Note\n",
    "* Instructions have been included for each segment. You do not have to follow them exactly, but they are included to help you think through the steps."
   ]
  },
  {
   "cell_type": "code",
   "execution_count": 1,
   "metadata": {
    "scrolled": true
   },
   "outputs": [],
   "source": [
    "# Dependencies and Setup\n",
    "import matplotlib.pyplot as plt\n",
    "import pandas as pd\n",
    "import numpy as np\n",
    "import requests\n",
    "import time\n",
    "from scipy.stats import linregress\n",
    "\n",
    "# Import API key\n",
    "from api_keys import weather_api_key\n",
    "\n",
    "# Incorporated citipy to determine city based on latitude and longitude\n",
    "from citipy import citipy\n",
    "\n",
    "# Output File (CSV)\n",
    "output_data_file = \"output_data/cities.csv\"\n",
    "\n",
    "# Range of latitudes and longitudes\n",
    "lat_range = (-90, 90)\n",
    "lng_range = (-180, 180)"
   ]
  },
  {
   "cell_type": "markdown",
   "metadata": {},
   "source": [
    "## Generate Cities List"
   ]
  },
  {
   "cell_type": "code",
   "execution_count": 2,
   "metadata": {},
   "outputs": [
    {
     "name": "stdout",
     "output_type": "stream",
     "text": [
      "583\n"
     ]
    }
   ],
   "source": [
    "# List for holding lat_lngs and cities\n",
    "lat_lngs = []\n",
    "cities = []\n",
    "\n",
    "# Create a set of random lat and lng combinations\n",
    "lats = np.random.uniform(lat_range[0], lat_range[1], size=1500)\n",
    "lngs = np.random.uniform(lng_range[0], lng_range[1], size=1500)\n",
    "lat_lngs = zip(lats, lngs)\n",
    "\n",
    "# Identify nearest city for each lat, lng combination\n",
    "for lat_lng in lat_lngs:\n",
    "    city = citipy.nearest_city(lat_lng[0], lat_lng[1]).city_name\n",
    "    \n",
    "    # If the city is unique, then add it to a our cities list\n",
    "    if city not in cities:\n",
    "        cities.append(city)\n",
    "\n",
    "# Print the city count to confirm sufficient count\n",
    "print (len(cities))\n"
   ]
  },
  {
   "cell_type": "markdown",
   "metadata": {},
   "source": [
    "### Perform API Calls\n",
    "* Perform a weather check on each city using a series of successive API calls.\n",
    "* Include a print log of each city as it'sbeing processed (with the city number and city name).\n"
   ]
  },
  {
   "cell_type": "code",
   "execution_count": 3,
   "metadata": {
    "scrolled": true
   },
   "outputs": [
    {
     "name": "stdout",
     "output_type": "stream",
     "text": [
      "City rolim de moura not found.\n",
      "City bengkulu found.\n",
      "City tuktoyaktuk found.\n",
      "City cape town found.\n",
      "City richards bay found.\n",
      "City tiksi found.\n",
      "City ushuaia found.\n",
      "City taolanaro not found.\n",
      "City porto novo found.\n",
      "City kokopo found.\n",
      "City kalagarh found.\n",
      "City bluff found.\n",
      "City mys shmidta not found.\n",
      "City ayacucho found.\n",
      "City port hedland found.\n",
      "City new norfolk found.\n",
      "City maniitsoq found.\n",
      "City amderma not found.\n",
      "City arlit found.\n",
      "City rikitea found.\n",
      "City barentsburg not found.\n",
      "City voh found.\n",
      "City omsukchan found.\n",
      "City busselton found.\n",
      "City punta arenas found.\n",
      "City puerto ayora found.\n",
      "City necochea found.\n",
      "City bathsheba found.\n",
      "City gizo found.\n",
      "City grand river south east not found.\n",
      "City jamestown found.\n",
      "City luganville found.\n",
      "City misratah found.\n",
      "City coquimbo found.\n",
      "City mataura found.\n",
      "City vagur found.\n",
      "City albany found.\n",
      "City saint george found.\n",
      "City kyrksaeterora found.\n",
      "City lima found.\n",
      "City burns lake found.\n",
      "City palmer found.\n",
      "City narasannapeta found.\n",
      "City hithadhoo found.\n",
      "City hilo found.\n",
      "City victoria found.\n",
      "City havelock found.\n",
      "City hire not found.\n",
      "City pedara found.\n",
      "City awjilah found.\n",
      "City luanda found.\n",
      "City lebu found.\n",
      "City tateyama found.\n",
      "City namibe found.\n",
      "City samusu not found.\n",
      "City kavieng found.\n",
      "City airai found.\n",
      "City thompson found.\n",
      "City hobart found.\n",
      "City diglur found.\n",
      "City abilene found.\n",
      "City hermanus found.\n",
      "City lagos found.\n",
      "City port alfred found.\n",
      "City ponta delgada found.\n",
      "City bambous virieux found.\n",
      "City kruisfontein found.\n",
      "City carnarvon found.\n",
      "City umzimvubu not found.\n",
      "City bredasdorp found.\n",
      "City souillac found.\n",
      "City margate found.\n",
      "City ilulissat found.\n",
      "City varna found.\n",
      "City hun found.\n",
      "City longyearbyen found.\n",
      "City mar del plata found.\n",
      "City laguna found.\n",
      "City touros found.\n",
      "City fortuna found.\n",
      "City paamiut found.\n",
      "City lucea found.\n",
      "City tsihombe not found.\n",
      "City sabang found.\n",
      "City sandwick found.\n",
      "City sao joao da barra found.\n",
      "City clyde river found.\n",
      "City melfi found.\n",
      "City belushya guba not found.\n",
      "City falealupo not found.\n",
      "City upernavik found.\n",
      "City san juan found.\n",
      "City gamba found.\n",
      "City timmins found.\n",
      "City da lat found.\n",
      "City butaritari found.\n",
      "City sivaki found.\n",
      "City galveston found.\n",
      "City petropavlovsk-kamchatskiy found.\n",
      "City cabo rojo found.\n",
      "City khatanga found.\n",
      "City atuona found.\n",
      "City mokhsogollokh found.\n",
      "City laguna de perlas found.\n",
      "City avarua found.\n",
      "City vaini found.\n",
      "City nome found.\n",
      "City barrow found.\n",
      "City ekhabi found.\n",
      "City saint-pierre found.\n",
      "City point pleasant found.\n",
      "City karaul not found.\n",
      "City yulara found.\n",
      "City haines junction found.\n",
      "City bethel found.\n",
      "City provideniya found.\n",
      "City kaura namoda found.\n",
      "City lufilufi found.\n",
      "City lavrentiya found.\n",
      "City mormugao found.\n",
      "City zabid found.\n",
      "City iqaluit found.\n",
      "City dikson found.\n",
      "City deputatskiy found.\n",
      "City flin flon found.\n",
      "City kapaa found.\n",
      "City savannakhet found.\n",
      "City castro found.\n",
      "City neiafu found.\n",
      "City lolua not found.\n",
      "City banda aceh found.\n",
      "City praia da vitoria found.\n",
      "City guanica found.\n",
      "City talnakh found.\n",
      "City helong found.\n",
      "City sol-iletsk found.\n",
      "City kodiak found.\n",
      "City arraial do cabo found.\n",
      "City kaitangata found.\n",
      "City amuntai found.\n",
      "City gwembe found.\n",
      "City regina found.\n",
      "City broome found.\n",
      "City sayyan found.\n",
      "City grand gaube found.\n",
      "City hambantota found.\n",
      "City leningradskiy found.\n",
      "City lompoc found.\n",
      "City chuy found.\n",
      "City aklavik found.\n",
      "City attawapiskat not found.\n",
      "City palana found.\n",
      "City east london found.\n",
      "City mayumba found.\n",
      "City geraldton found.\n",
      "City ahuimanu found.\n",
      "City nouakchott found.\n",
      "City wamba found.\n",
      "City te anau found.\n",
      "City guerrero negro found.\n",
      "City ponta do sol found.\n",
      "City itacare found.\n",
      "City kaduna found.\n",
      "City hachinohe found.\n",
      "City yellowknife found.\n",
      "City zgierz found.\n",
      "City yar-sale found.\n",
      "City vaitupu not found.\n",
      "City port elizabeth found.\n",
      "City beloye found.\n",
      "City nuuk found.\n",
      "City faanui found.\n",
      "City qandala found.\n",
      "City tumannyy not found.\n",
      "City georgetown found.\n",
      "City meulaboh found.\n",
      "City yuci found.\n",
      "City villamontes found.\n",
      "City asfi found.\n",
      "City saryshagan not found.\n",
      "City ulladulla found.\n",
      "City naze found.\n",
      "City pringsewu found.\n",
      "City ducheng found.\n",
      "City xam nua found.\n",
      "City severnoye found.\n",
      "City mahebourg found.\n",
      "City horasan found.\n",
      "City quatre cocos found.\n",
      "City dongsheng found.\n",
      "City nanakuli found.\n",
      "City varnamo found.\n",
      "City pedra azul found.\n",
      "City boralday found.\n",
      "City beringovskiy found.\n",
      "City fort beaufort found.\n",
      "City nikolskoye found.\n",
      "City fairbanks found.\n",
      "City san cristobal found.\n",
      "City vanimo found.\n",
      "City mentok not found.\n",
      "City promysla not found.\n",
      "City bayangol found.\n",
      "City qaanaaq found.\n",
      "City saldanha found.\n",
      "City dali found.\n",
      "City pevek found.\n",
      "City marsa matruh found.\n",
      "City tasiilaq found.\n",
      "City san rafael found.\n",
      "City ancud found.\n",
      "City turkistan found.\n",
      "City katherine found.\n",
      "City kegayli not found.\n",
      "City norman wells found.\n",
      "City carmen found.\n",
      "City ejura found.\n",
      "City temaraia not found.\n",
      "City bacuit not found.\n",
      "City cidreira found.\n",
      "City coihaique found.\n",
      "City bethanien found.\n",
      "City kamthi found.\n",
      "City makinsk found.\n",
      "City eyl found.\n",
      "City resistencia found.\n",
      "City tingo maria found.\n",
      "City bolungarvik not found.\n",
      "City rabo de peixe found.\n",
      "City nauta found.\n",
      "City olavarria found.\n",
      "City katobu found.\n",
      "City kutum found.\n",
      "City ferkessedougou found.\n",
      "City mega found.\n",
      "City zaoyang found.\n",
      "City monrovia found.\n",
      "City salalah found.\n",
      "City mrirt not found.\n",
      "City vardo found.\n",
      "City terney found.\n",
      "City nizhniy baskunchak found.\n",
      "City shingu found.\n",
      "City kodinsk found.\n",
      "City luneville found.\n",
      "City vanavara found.\n",
      "City illoqqortoormiut not found.\n",
      "City tuatapere found.\n",
      "City inta found.\n",
      "City san patricio found.\n",
      "City quimper found.\n",
      "City binzhou found.\n",
      "City lundazi found.\n",
      "City hami found.\n",
      "City natal found.\n",
      "City kloulklubed found.\n",
      "City cartagena del chaira found.\n",
      "City bairiki found.\n",
      "City saint-francois found.\n",
      "City inderborskiy not found.\n",
      "City pahrump found.\n",
      "City abu dhabi found.\n",
      "City nanortalik found.\n",
      "City urumqi found.\n",
      "City bilma found.\n",
      "City chapadinha found.\n",
      "City la ronge found.\n",
      "City yuxia found.\n",
      "City chokurdakh found.\n",
      "City nouadhibou found.\n",
      "City los cordobas found.\n",
      "City tessalit found.\n",
      "City klaksvik found.\n",
      "City santa eulalia del rio not found.\n",
      "City coahuayana found.\n",
      "City hutchinson found.\n",
      "City torbay found.\n",
      "City egvekinot found.\n",
      "City karpuninskiy not found.\n",
      "City yeppoon found.\n",
      "City takoradi found.\n",
      "City sucre found.\n",
      "City freeport found.\n",
      "City sao filipe found.\n",
      "City severo-kurilsk found.\n",
      "City esperance found.\n",
      "City gat found.\n",
      "City yabassi found.\n",
      "City mbanza-ngungu found.\n",
      "City santa lucia found.\n",
      "City sitka found.\n",
      "City rudiskes found.\n",
      "City eureka found.\n",
      "City katsuura found.\n",
      "City warqla not found.\n",
      "City salinas found.\n",
      "City axixa do tocantins not found.\n",
      "City don sak found.\n",
      "City san quintin found.\n",
      "City poum found.\n",
      "City cayenne found.\n",
      "City port blair found.\n",
      "City itoman found.\n",
      "City port hardy found.\n",
      "City kut chap found.\n",
      "City kawalu found.\n",
      "City vicuna found.\n",
      "City los llanos de aridane found.\n",
      "City iracoubo found.\n",
      "City melita found.\n",
      "City ocos found.\n",
      "City maarianhamina found.\n",
      "City cabo san lucas found.\n",
      "City dhidhdhoo found.\n",
      "City saint-philippe found.\n",
      "City maracai found.\n",
      "City kahului found.\n",
      "City ribeira grande found.\n",
      "City nizhniy kuranakh found.\n",
      "City berlevag found.\n",
      "City inuvik found.\n",
      "City constitucion found.\n",
      "City kieta found.\n",
      "City nizhneyansk not found.\n",
      "City seoul found.\n",
      "City hobyo found.\n",
      "City vila franca do campo found.\n",
      "City abong mbang found.\n",
      "City marawi found.\n",
      "City aleksandrov gay found.\n",
      "City codrington found.\n",
      "City zhezkazgan found.\n",
      "City cockburn town found.\n",
      "City akhalgori found.\n",
      "City almenevo not found.\n",
      "City turiacu found.\n",
      "City hualmay found.\n",
      "City petatlan found.\n",
      "City buritis found.\n",
      "City mount gambier found.\n",
      "City walvis bay found.\n",
      "City vila velha found.\n",
      "City zalegoshch found.\n",
      "City kartuzy found.\n",
      "City belyy yar found.\n",
      "City lorengau found.\n",
      "City wahpeton found.\n",
      "City caravelas found.\n",
      "City dunedin found.\n",
      "City pangnirtung found.\n",
      "City skogn found.\n",
      "City nadym found.\n",
      "City boulder city found.\n",
      "City picayune found.\n",
      "City najran found.\n",
      "City kalmunai found.\n",
      "City lasa found.\n",
      "City fengrun found.\n",
      "City vao found.\n",
      "City manono found.\n",
      "City bubaque found.\n",
      "City karauzyak not found.\n",
      "City vredendal found.\n",
      "City shimoda found.\n",
      "City turukhansk found.\n",
      "City llangefni found.\n",
      "City kanigiri found.\n",
      "City calobre not found.\n",
      "City avera found.\n",
      "City bukan found.\n",
      "City kirovsk found.\n",
      "City sur found.\n",
      "City itupiranga found.\n",
      "City puerto del rosario found.\n",
      "City tanushimaru found.\n"
     ]
    },
    {
     "name": "stdout",
     "output_type": "stream",
     "text": [
      "City aurillac found.\n",
      "City alofi found.\n",
      "City fort nelson found.\n",
      "City wahiawa found.\n",
      "City lakes entrance found.\n",
      "City wiwili found.\n",
      "City hofn found.\n",
      "City aksu found.\n",
      "City sibu found.\n",
      "City saleaula not found.\n",
      "City ardrishaig found.\n",
      "City yichang found.\n",
      "City santa maria found.\n",
      "City hirado found.\n",
      "City bonavista found.\n",
      "City quang ngai found.\n",
      "City srednekolymsk found.\n",
      "City pochutla found.\n",
      "City aswan found.\n",
      "City sungairaya found.\n",
      "City varzea da palma found.\n",
      "City dzilam gonzalez found.\n",
      "City capitao poco found.\n",
      "City lodja found.\n",
      "City itaituba found.\n",
      "City astorga found.\n",
      "City luderitz found.\n",
      "City sola found.\n",
      "City prince rupert found.\n",
      "City olafsvik found.\n",
      "City paris found.\n",
      "City high level found.\n",
      "City labuhan found.\n",
      "City zhigansk found.\n",
      "City narsaq found.\n",
      "City novo horizonte found.\n",
      "City waipawa found.\n",
      "City sentyabrskiy not found.\n",
      "City mercedes found.\n",
      "City dubrovka found.\n",
      "City durban found.\n",
      "City macaboboni not found.\n",
      "City kamenskoye not found.\n",
      "City pustoshka found.\n",
      "City port lincoln found.\n",
      "City pavagada found.\n",
      "City saskylakh found.\n",
      "City isangel found.\n",
      "City mandalgovi found.\n",
      "City carutapera found.\n",
      "City pokhara found.\n",
      "City sapucaia found.\n",
      "City flinders found.\n",
      "City freetown found.\n",
      "City kamskiye polyany found.\n",
      "City palabuhanratu not found.\n",
      "City pacific grove found.\n",
      "City jennings found.\n",
      "City lanzhou found.\n",
      "City selma found.\n",
      "City smithers found.\n",
      "City cherskiy found.\n",
      "City beoumi found.\n",
      "City hudson bay found.\n",
      "City ahipara found.\n",
      "City acapulco found.\n",
      "City panaba found.\n",
      "City artyk not found.\n",
      "City taunggyi found.\n",
      "City port moresby found.\n",
      "City svetlogorsk found.\n",
      "City hasaki found.\n",
      "City pouebo found.\n",
      "City guamuchil found.\n",
      "City tomari found.\n",
      "City grammichele found.\n",
      "City monteagudo found.\n",
      "City tacuarembo found.\n",
      "City tambovka found.\n",
      "City santa fe found.\n",
      "City opuwo found.\n",
      "City azrow not found.\n",
      "City jacareacanga found.\n",
      "City mujiayingzi found.\n",
      "City kipini found.\n",
      "City dingle found.\n",
      "City kontagora found.\n",
      "City sibolga found.\n",
      "City calhoun found.\n",
      "City ipanema found.\n",
      "City kamarion found.\n",
      "City nioaque found.\n",
      "City madang found.\n",
      "City taltal found.\n",
      "City kitgum found.\n",
      "City kirovskiy found.\n",
      "City hsinchu found.\n",
      "City neverkino found.\n",
      "City barranca found.\n",
      "City axim found.\n",
      "City yerani not found.\n",
      "City bonthe found.\n",
      "City bafia found.\n",
      "City fomboni found.\n",
      "City tual found.\n",
      "City crusetu found.\n",
      "City sinnamary found.\n",
      "City ballina found.\n",
      "City puri found.\n",
      "City lerwick found.\n",
      "City shellbrook found.\n",
      "City fengzhen found.\n",
      "City christchurch found.\n",
      "City esterhazy found.\n",
      "City lagonoy found.\n",
      "City byron bay found.\n",
      "City ambilobe found.\n",
      "City macultepec found.\n",
      "City saint-joseph found.\n",
      "City dalvik found.\n",
      "City wuwei found.\n",
      "City qaqortoq found.\n",
      "City santa rosa found.\n",
      "City vanderhoof found.\n",
      "City adrar found.\n",
      "City atar found.\n",
      "City aljezur found.\n",
      "City boa vista found.\n",
      "City luang prabang found.\n",
      "City sisimiut found.\n",
      "City molteno found.\n",
      "City berezniki found.\n",
      "City hamilton found.\n",
      "City jumla found.\n",
      "City evans found.\n",
      "City beyla found.\n",
      "City sidi bin nur found.\n",
      "City awbari found.\n",
      "City aykhal found.\n",
      "City havre-saint-pierre found.\n",
      "City crotone found.\n",
      "City nenjiang found.\n",
      "City cortez found.\n",
      "City maldonado found.\n",
      "City tavda found.\n",
      "City xochihuehuetlan found.\n",
      "City gasa found.\n",
      "City padang found.\n",
      "City bosaso found.\n",
      "City robertsport found.\n",
      "City koping found.\n",
      "City toora-khem found.\n",
      "City zalantun found.\n",
      "City makakilo city found.\n",
      "City ingham found.\n",
      "City vegreville found.\n",
      "City sorland found.\n",
      "City leshukonskoye found.\n",
      "City kendallville found.\n",
      "City izalco found.\n",
      "City shache found.\n",
      "City nantucket found.\n",
      "City belmonte found.\n",
      "City kadykchan not found.\n",
      "City bababe not found.\n",
      "City kununurra found.\n",
      "City atambua found.\n",
      "City alta floresta found.\n",
      "City wewak found.\n",
      "City korla found.\n",
      "City kargasok found.\n",
      "City kirkenaer found.\n",
      "City dentsville found.\n",
      "City jalu found.\n",
      "City pafos found.\n",
      "City evensk found.\n",
      "City broken hill found.\n",
      "City kuche not found.\n",
      "City les escoumins found.\n",
      "City santa margherita ligure found.\n",
      "City henties bay found.\n",
      "City talara found.\n",
      "City ola found.\n",
      "City harindanga found.\n",
      "City chapais found.\n",
      "City odweyne found.\n",
      "City saravan found.\n",
      "City ullapool found.\n",
      "City dwarka found.\n",
      "City marcona not found.\n",
      "City grenfell found.\n",
      "City mananjary found.\n",
      "City yatou found.\n",
      "City bereda found.\n",
      "City kunfeherto found.\n",
      "City baghdad found.\n",
      "City hvide sande found.\n",
      "City cervo found.\n",
      "City biloela found.\n",
      "City morehead found.\n",
      "City tongzi found.\n",
      "City luena found.\n",
      "City kenai found.\n",
      "City ostrovnoy found.\n",
      "City severnyy found.\n",
      "City tasbuget not found.\n",
      "City sarangani found.\n",
      "City golcuv jenikov found.\n"
     ]
    }
   ],
   "source": [
    "url = \"http://api.openweathermap.org/data/2.5/weather?\"\n",
    "units = \"imperial\"\n",
    "query_url = f\"{url}appid={weather_api_key}&units={units}&q=\"\n",
    "\n",
    "city = []\n",
    "lat = []\n",
    "lng = []\n",
    "max_temp = []\n",
    "humidity = []\n",
    "cloudiness = []\n",
    "wind_speed = []\n",
    "country = []\n",
    "date = []\n",
    "\n",
    "#small_city_list = ['saint-philippe','newtownards','hobart','rikitea','qaanaaq','marcona','vaini','yekaterinoslavka',\n",
    "#                   'hailey','filingue','alofi','cabo san lucas','grindavik','new norfolk']\n",
    "#for a in small_city_list:\n",
    "\n",
    "for a in cities:\n",
    "    \n",
    "    response = requests.get(query_url + a).json()\n",
    "\n",
    "    try:\n",
    "        \n",
    "        lat.append(response['coord']['lat'])\n",
    "        lng.append(response['coord']['lon'])\n",
    "        max_temp.append(response['main']['temp_max'])\n",
    "        humidity.append(response['main']['humidity'])\n",
    "        cloudiness.append(response['clouds']['all'])\n",
    "        wind_speed.append(response['wind']['speed'])\n",
    "        country.append(response['sys']['country'])\n",
    "        date.append(response['dt'])\n",
    "        city.append(a)\n",
    "        print(f\"City {a} found.\")\n",
    "\n",
    "    except:\n",
    "        \n",
    "        print(f\"City {a} not found.\")\n",
    "        pass\n",
    "\n",
    "weather_dict = {\n",
    "    'City' : city,\n",
    "    'Lat' : lat,\n",
    "    'Lng' : lng,\n",
    "    'Max Temp' : max_temp,\n",
    "    'Humidity' : humidity,\n",
    "    'Cloudiness' : cloudiness,\n",
    "    'Wind Speed' : wind_speed,\n",
    "    'Country' : country,\n",
    "    'Date' : date\n",
    "    \n",
    "}\n",
    "\n",
    "weather_data = pd.DataFrame(weather_dict)\n",
    "\n"
   ]
  },
  {
   "cell_type": "markdown",
   "metadata": {},
   "source": [
    " Convert Raw Data to DataFrame\n",
    "* Export the city data into a .csv.\n",
    "* Display the DataFrame\n"
   ]
  },
  {
   "cell_type": "code",
   "execution_count": 4,
   "metadata": {
    "scrolled": true
   },
   "outputs": [],
   "source": [
    "weather_data.to_csv('output_data/cities.csv', header=True)\n",
    "#weather_data.to_csv(output_data_file, header=True)\n",
    "#weather_data[weather_data['Humidity'] > 99]"
   ]
  },
  {
   "cell_type": "code",
   "execution_count": 5,
   "metadata": {},
   "outputs": [
    {
     "data": {
      "text/html": [
       "<div>\n",
       "<style scoped>\n",
       "    .dataframe tbody tr th:only-of-type {\n",
       "        vertical-align: middle;\n",
       "    }\n",
       "\n",
       "    .dataframe tbody tr th {\n",
       "        vertical-align: top;\n",
       "    }\n",
       "\n",
       "    .dataframe thead th {\n",
       "        text-align: right;\n",
       "    }\n",
       "</style>\n",
       "<table border=\"1\" class=\"dataframe\">\n",
       "  <thead>\n",
       "    <tr style=\"text-align: right;\">\n",
       "      <th></th>\n",
       "      <th>City</th>\n",
       "      <th>Lat</th>\n",
       "      <th>Lng</th>\n",
       "      <th>Max Temp</th>\n",
       "      <th>Humidity</th>\n",
       "      <th>Cloudiness</th>\n",
       "      <th>Wind Speed</th>\n",
       "      <th>Country</th>\n",
       "      <th>Date</th>\n",
       "    </tr>\n",
       "  </thead>\n",
       "  <tbody>\n",
       "    <tr>\n",
       "      <th>0</th>\n",
       "      <td>bengkulu</td>\n",
       "      <td>-3.8004</td>\n",
       "      <td>102.2655</td>\n",
       "      <td>76.10</td>\n",
       "      <td>89</td>\n",
       "      <td>100</td>\n",
       "      <td>2.89</td>\n",
       "      <td>ID</td>\n",
       "      <td>1666554984</td>\n",
       "    </tr>\n",
       "    <tr>\n",
       "      <th>1</th>\n",
       "      <td>tuktoyaktuk</td>\n",
       "      <td>69.4541</td>\n",
       "      <td>-133.0374</td>\n",
       "      <td>14.00</td>\n",
       "      <td>85</td>\n",
       "      <td>75</td>\n",
       "      <td>5.75</td>\n",
       "      <td>CA</td>\n",
       "      <td>1666555161</td>\n",
       "    </tr>\n",
       "    <tr>\n",
       "      <th>2</th>\n",
       "      <td>cape town</td>\n",
       "      <td>-33.9258</td>\n",
       "      <td>18.4232</td>\n",
       "      <td>68.41</td>\n",
       "      <td>76</td>\n",
       "      <td>0</td>\n",
       "      <td>21.85</td>\n",
       "      <td>ZA</td>\n",
       "      <td>1666555162</td>\n",
       "    </tr>\n",
       "    <tr>\n",
       "      <th>3</th>\n",
       "      <td>richards bay</td>\n",
       "      <td>-28.7830</td>\n",
       "      <td>32.0377</td>\n",
       "      <td>69.89</td>\n",
       "      <td>93</td>\n",
       "      <td>82</td>\n",
       "      <td>2.28</td>\n",
       "      <td>ZA</td>\n",
       "      <td>1666554939</td>\n",
       "    </tr>\n",
       "    <tr>\n",
       "      <th>4</th>\n",
       "      <td>tiksi</td>\n",
       "      <td>71.6872</td>\n",
       "      <td>128.8694</td>\n",
       "      <td>21.13</td>\n",
       "      <td>93</td>\n",
       "      <td>100</td>\n",
       "      <td>11.16</td>\n",
       "      <td>RU</td>\n",
       "      <td>1666555162</td>\n",
       "    </tr>\n",
       "  </tbody>\n",
       "</table>\n",
       "</div>"
      ],
      "text/plain": [
       "           City      Lat       Lng  Max Temp  Humidity  Cloudiness  \\\n",
       "0      bengkulu  -3.8004  102.2655     76.10        89         100   \n",
       "1   tuktoyaktuk  69.4541 -133.0374     14.00        85          75   \n",
       "2     cape town -33.9258   18.4232     68.41        76           0   \n",
       "3  richards bay -28.7830   32.0377     69.89        93          82   \n",
       "4         tiksi  71.6872  128.8694     21.13        93         100   \n",
       "\n",
       "   Wind Speed Country        Date  \n",
       "0        2.89      ID  1666554984  \n",
       "1        5.75      CA  1666555161  \n",
       "2       21.85      ZA  1666555162  \n",
       "3        2.28      ZA  1666554939  \n",
       "4       11.16      RU  1666555162  "
      ]
     },
     "execution_count": 5,
     "metadata": {},
     "output_type": "execute_result"
    }
   ],
   "source": [
    "weather_data.head()"
   ]
  },
  {
   "cell_type": "markdown",
   "metadata": {},
   "source": [
    "## Inspect the data and remove the cities where the humidity > 100%.\n",
    "----\n",
    "Skip this step if there are no cities that have humidity > 100%. "
   ]
  },
  {
   "cell_type": "code",
   "execution_count": 7,
   "metadata": {},
   "outputs": [
    {
     "data": {
      "text/html": [
       "<div>\n",
       "<style scoped>\n",
       "    .dataframe tbody tr th:only-of-type {\n",
       "        vertical-align: middle;\n",
       "    }\n",
       "\n",
       "    .dataframe tbody tr th {\n",
       "        vertical-align: top;\n",
       "    }\n",
       "\n",
       "    .dataframe thead th {\n",
       "        text-align: right;\n",
       "    }\n",
       "</style>\n",
       "<table border=\"1\" class=\"dataframe\">\n",
       "  <thead>\n",
       "    <tr style=\"text-align: right;\">\n",
       "      <th></th>\n",
       "      <th>City</th>\n",
       "      <th>Lat</th>\n",
       "      <th>Lng</th>\n",
       "      <th>Max Temp</th>\n",
       "      <th>Humidity</th>\n",
       "      <th>Cloudiness</th>\n",
       "      <th>Wind Speed</th>\n",
       "      <th>Country</th>\n",
       "      <th>Date</th>\n",
       "    </tr>\n",
       "  </thead>\n",
       "  <tbody>\n",
       "  </tbody>\n",
       "</table>\n",
       "</div>"
      ],
      "text/plain": [
       "Empty DataFrame\n",
       "Columns: [City, Lat, Lng, Max Temp, Humidity, Cloudiness, Wind Speed, Country, Date]\n",
       "Index: []"
      ]
     },
     "execution_count": 7,
     "metadata": {},
     "output_type": "execute_result"
    }
   ],
   "source": [
    "weather_data[weather_data['Humidity'] > 100]"
   ]
  },
  {
   "cell_type": "code",
   "execution_count": 17,
   "metadata": {},
   "outputs": [
    {
     "data": {
      "text/plain": [
       "Int64Index([], dtype='int64')"
      ]
     },
     "execution_count": 17,
     "metadata": {},
     "output_type": "execute_result"
    }
   ],
   "source": [
    "#  Get the indices of cities that have humidity over 100%.\n"
   ]
  },
  {
   "cell_type": "code",
   "execution_count": 19,
   "metadata": {},
   "outputs": [
    {
     "data": {
      "text/html": [
       "<div>\n",
       "<style scoped>\n",
       "    .dataframe tbody tr th:only-of-type {\n",
       "        vertical-align: middle;\n",
       "    }\n",
       "\n",
       "    .dataframe tbody tr th {\n",
       "        vertical-align: top;\n",
       "    }\n",
       "\n",
       "    .dataframe thead th {\n",
       "        text-align: right;\n",
       "    }\n",
       "</style>\n",
       "<table border=\"1\" class=\"dataframe\">\n",
       "  <thead>\n",
       "    <tr style=\"text-align: right;\">\n",
       "      <th></th>\n",
       "      <th>City</th>\n",
       "      <th>Lat</th>\n",
       "      <th>Lng</th>\n",
       "      <th>Max Temp</th>\n",
       "      <th>Humidity</th>\n",
       "      <th>Cloudiness</th>\n",
       "      <th>Wind Speed</th>\n",
       "      <th>Country</th>\n",
       "      <th>Date</th>\n",
       "    </tr>\n",
       "  </thead>\n",
       "  <tbody>\n",
       "    <tr>\n",
       "      <td>0</td>\n",
       "      <td>butaritari</td>\n",
       "      <td>3.07</td>\n",
       "      <td>172.79</td>\n",
       "      <td>83.32</td>\n",
       "      <td>74</td>\n",
       "      <td>84</td>\n",
       "      <td>10.42</td>\n",
       "      <td>KI</td>\n",
       "      <td>1593605283</td>\n",
       "    </tr>\n",
       "    <tr>\n",
       "      <td>1</td>\n",
       "      <td>yerbogachen</td>\n",
       "      <td>61.28</td>\n",
       "      <td>108.01</td>\n",
       "      <td>79.52</td>\n",
       "      <td>58</td>\n",
       "      <td>20</td>\n",
       "      <td>7.70</td>\n",
       "      <td>RU</td>\n",
       "      <td>1593605121</td>\n",
       "    </tr>\n",
       "    <tr>\n",
       "      <td>2</td>\n",
       "      <td>cape town</td>\n",
       "      <td>-33.93</td>\n",
       "      <td>18.42</td>\n",
       "      <td>73.00</td>\n",
       "      <td>77</td>\n",
       "      <td>27</td>\n",
       "      <td>4.70</td>\n",
       "      <td>ZA</td>\n",
       "      <td>1593605039</td>\n",
       "    </tr>\n",
       "    <tr>\n",
       "      <td>3</td>\n",
       "      <td>touba</td>\n",
       "      <td>8.28</td>\n",
       "      <td>-7.68</td>\n",
       "      <td>79.97</td>\n",
       "      <td>75</td>\n",
       "      <td>82</td>\n",
       "      <td>3.58</td>\n",
       "      <td>CI</td>\n",
       "      <td>1593605284</td>\n",
       "    </tr>\n",
       "    <tr>\n",
       "      <td>4</td>\n",
       "      <td>jamestown</td>\n",
       "      <td>42.10</td>\n",
       "      <td>-79.24</td>\n",
       "      <td>64.00</td>\n",
       "      <td>88</td>\n",
       "      <td>1</td>\n",
       "      <td>6.93</td>\n",
       "      <td>US</td>\n",
       "      <td>1593605284</td>\n",
       "    </tr>\n",
       "  </tbody>\n",
       "</table>\n",
       "</div>"
      ],
      "text/plain": [
       "          City    Lat     Lng  Max Temp  Humidity  Cloudiness  Wind Speed  \\\n",
       "0   butaritari   3.07  172.79     83.32        74          84       10.42   \n",
       "1  yerbogachen  61.28  108.01     79.52        58          20        7.70   \n",
       "2    cape town -33.93   18.42     73.00        77          27        4.70   \n",
       "3        touba   8.28   -7.68     79.97        75          82        3.58   \n",
       "4    jamestown  42.10  -79.24     64.00        88           1        6.93   \n",
       "\n",
       "  Country        Date  \n",
       "0      KI  1593605283  \n",
       "1      RU  1593605121  \n",
       "2      ZA  1593605039  \n",
       "3      CI  1593605284  \n",
       "4      US  1593605284  "
      ]
     },
     "execution_count": 19,
     "metadata": {},
     "output_type": "execute_result"
    }
   ],
   "source": [
    "# Make a new DataFrame equal to the city data to drop all humidity outliers by index.\n",
    "# Passing \"inplace=False\" will make a copy of the city_data DataFrame, which we call \"clean_city_data\".\n"
   ]
  },
  {
   "cell_type": "code",
   "execution_count": null,
   "metadata": {},
   "outputs": [],
   "source": [
    "\n"
   ]
  },
  {
   "cell_type": "markdown",
   "metadata": {},
   "source": [
    "## Plotting the Data\n",
    "* Use proper labeling of the plots using plot titles (including date of analysis) and axes labels.\n",
    "* Save the plotted figures as .pngs."
   ]
  },
  {
   "cell_type": "markdown",
   "metadata": {},
   "source": [
    "## Latitude vs. Temperature Plot"
   ]
  },
  {
   "cell_type": "code",
   "execution_count": 8,
   "metadata": {
    "scrolled": true
   },
   "outputs": [
    {
     "data": {
      "image/png": "[encoded data removed]",
      "text/plain": [
       "<Figure size 432x288 with 1 Axes>"
      ]
     },
     "metadata": {
      "needs_background": "light"
     },
     "output_type": "display_data"
    }
   ],
   "source": [
    "plt.scatter(weather_data['Lat'], weather_data['Max Temp'], marker='o')\n",
    "plt.title('City Latitude vs. Max Temperature (10/22/2022)')\n",
    "plt.ylabel('Max Termperature (F)')\n",
    "plt.xlabel('Latitude')\n",
    "plt.grid(True)\n",
    "\n",
    "plt.savefig('../Images/TemperatureInWorldCities.png')\n",
    "\n",
    "plt.show()"
   ]
  },
  {
   "cell_type": "markdown",
   "metadata": {},
   "source": [
    "## Latitude vs. Humidity Plot"
   ]
  },
  {
   "cell_type": "code",
   "execution_count": 9,
   "metadata": {},
   "outputs": [
    {
     "data": {
      "image/png": "[encoded data removed]",
      "text/plain": [
       "<Figure size 432x288 with 1 Axes>"
      ]
     },
     "metadata": {
      "needs_background": "light"
     },
     "output_type": "display_data"
    }
   ],
   "source": [
    "plt.scatter(weather_data['Lat'], weather_data['Humidity'], marker='o')\n",
    "plt.title('City Latitude vs. Humidity (10/22/2022)')\n",
    "plt.ylabel('Humdity (%)')\n",
    "plt.xlabel('Latitude')\n",
    "plt.grid(True)\n",
    "\n",
    "plt.savefig('../Images/HumidityInWorldCities.png')\n",
    "\n",
    "plt.show()"
   ]
  },
  {
   "cell_type": "markdown",
   "metadata": {},
   "source": [
    "## Latitude vs. Cloudiness Plot"
   ]
  },
  {
   "cell_type": "code",
   "execution_count": 10,
   "metadata": {},
   "outputs": [
    {
     "data": {
      "image/png": "[encoded data removed]",
      "text/plain": [
       "<Figure size 432x288 with 1 Axes>"
      ]
     },
     "metadata": {
      "needs_background": "light"
     },
     "output_type": "display_data"
    }
   ],
   "source": [
    "plt.scatter(weather_data['Lat'], weather_data['Cloudiness'], marker='o')\n",
    "plt.title('City Latitude vs. Cloudiness (10/22/2022)')\n",
    "plt.ylabel('Cloudiness (%)')\n",
    "plt.xlabel('Latitude')\n",
    "plt.grid(True)\n",
    "\n",
    "plt.savefig('../Images/CloudinessInWorldCities.png')\n",
    "\n",
    "plt.show()"
   ]
  },
  {
   "cell_type": "markdown",
   "metadata": {},
   "source": [
    "## Latitude vs. Wind Speed Plot"
   ]
  },
  {
   "cell_type": "code",
   "execution_count": 11,
   "metadata": {},
   "outputs": [
    {
     "data": {
      "image/png": "[encoded data removed]",
      "text/plain": [
       "<Figure size 432x288 with 1 Axes>"
      ]
     },
     "metadata": {
      "needs_background": "light"
     },
     "output_type": "display_data"
    }
   ],
   "source": [
    "plt.scatter(weather_data['Lat'], weather_data['Wind Speed'], marker='o')\n",
    "plt.title('City Latitude vs. Wind Speed (10/22/2022)')\n",
    "plt.ylabel('Wind Speed (mph)')\n",
    "plt.xlabel('Latitude')\n",
    "plt.grid(True)\n",
    "\n",
    "plt.savefig('../Images/WindSpeedInWorldCities.png')\n",
    "\n",
    "plt.show()"
   ]
  },
  {
   "cell_type": "markdown",
   "metadata": {},
   "source": [
    "## Linear Regression"
   ]
  },
  {
   "cell_type": "markdown",
   "metadata": {},
   "source": [
    "####  Northern Hemisphere - Max Temp vs. Latitude Linear Regression"
   ]
  },
  {
   "cell_type": "code",
   "execution_count": 12,
   "metadata": {},
   "outputs": [
    {
     "name": "stdout",
     "output_type": "stream",
     "text": [
      "The r-value is: -0.854334551342606\n",
      "y = -0.93x + 92.62\n"
     ]
    },
    {
     "data": {
      "image/png": "[encoded data removed]",
      "text/plain": [
       "<Figure size 432x288 with 1 Axes>"
      ]
     },
     "metadata": {
      "needs_background": "light"
     },
     "output_type": "display_data"
    }
   ],
   "source": [
    "x_values = weather_data[weather_data['Lat'] >= 0]['Lat']\n",
    "y_values = weather_data[weather_data['Lat'] >= 0]['Max Temp']\n",
    "\n",
    "(slope, intercept, rvalue, pvalue, stderr) = linregress(x_values, y_values)\n",
    "regress_values = x_values * slope + intercept\n",
    "line_eq = \"y = \" + str(round(slope,2)) + \"x + \" + str(round(intercept,2))\n",
    "\n",
    "\n",
    "plt.scatter(x_values, y_values)\n",
    "plt.plot(x_values, regress_values,\"r-\")\n",
    "plt.annotate(line_eq,(0,0),fontsize=15,color=\"red\")\n",
    "plt.xlabel(\"Latitude\")\n",
    "plt.ylabel(\"Max Temp (F)\")\n",
    "plt.title('Northern Hemisphere - Max Temp vs. Latitude Regression')\n",
    "\n",
    "print(f\"The r-value is: {rvalue}\")\n",
    "print(line_eq)\n",
    "plt.savefig('../Images/LinearNorthernTemp.png')\n",
    "plt.show()"
   ]
  },
  {
   "cell_type": "markdown",
   "metadata": {},
   "source": [
    "####  Southern Hemisphere - Max Temp vs. Latitude Linear Regression"
   ]
  },
  {
   "cell_type": "code",
   "execution_count": 21,
   "metadata": {},
   "outputs": [
    {
     "name": "stdout",
     "output_type": "stream",
     "text": [
      "The r-value is: 0.7298856792072108\n",
      "y = 0.6x + 84.0\n"
     ]
    },
    {
     "data": {
      "image/png": "[encoded data removed]",
      "text/plain": [
       "<Figure size 432x288 with 1 Axes>"
      ]
     },
     "metadata": {
      "needs_background": "light"
     },
     "output_type": "display_data"
    }
   ],
   "source": [
    "x_values = weather_data[weather_data['Lat'] < 0]['Lat']\n",
    "y_values = weather_data[weather_data['Lat'] < 0]['Max Temp']\n",
    "\n",
    "(slope, intercept, rvalue, pvalue, stderr) = linregress(x_values, y_values)\n",
    "regress_values = x_values * slope + intercept\n",
    "line_eq = \"y = \" + str(round(slope,2)) + \"x + \" + str(round(intercept,2))\n",
    "\n",
    "\n",
    "plt.scatter(x_values, y_values)\n",
    "plt.plot(x_values, regress_values,\"r-\")\n",
    "plt.annotate(line_eq,(-50,90),fontsize=15,color=\"red\")\n",
    "plt.xlabel(\"Latitude\")\n",
    "plt.ylabel(\"Max Temp (F)\")\n",
    "plt.title('Southern Hemisphere - Max Temp vs. Latitude Regression')\n",
    "\n",
    "print(f\"The r-value is: {rvalue}\")\n",
    "print(line_eq)\n",
    "plt.savefig('../Images/LinearSouthernTemp.png')\n",
    "plt.show()"
   ]
  },
  {
   "cell_type": "markdown",
   "metadata": {},
   "source": [
    "####  Northern Hemisphere - Humidity (%) vs. Latitude Linear Regression"
   ]
  },
  {
   "cell_type": "code",
   "execution_count": 22,
   "metadata": {},
   "outputs": [
    {
     "name": "stdout",
     "output_type": "stream",
     "text": [
      "The r-value is: 0.23619319316786785\n",
      "y = 0.24x + 62.11\n"
     ]
    },
    {
     "data": {
      "image/png": "[encoded data removed]",
      "text/plain": [
       "<Figure size 432x288 with 1 Axes>"
      ]
     },
     "metadata": {
      "needs_background": "light"
     },
     "output_type": "display_data"
    }
   ],
   "source": [
    "x_values = weather_data[weather_data['Lat'] >= 0]['Lat']\n",
    "y_values = weather_data[weather_data['Lat'] >= 0]['Humidity']\n",
    "\n",
    "(slope, intercept, rvalue, pvalue, stderr) = linregress(x_values, y_values)\n",
    "regress_values = x_values * slope + intercept\n",
    "line_eq = \"y = \" + str(round(slope,2)) + \"x + \" + str(round(intercept,2))\n",
    "\n",
    "\n",
    "plt.scatter(x_values, y_values)\n",
    "plt.plot(x_values, regress_values,\"r-\")\n",
    "plt.annotate(line_eq,(50,20),fontsize=15,color=\"red\")\n",
    "plt.xlabel(\"Latitude\")\n",
    "plt.ylabel(\"Humidity (%)\")\n",
    "plt.title('Northern Hemisphere - Humdity vs. Latitude Regression')\n",
    "\n",
    "print(f\"The r-value is: {rvalue}\")\n",
    "print(line_eq)\n",
    "plt.savefig('../Images/LinearNorthernHumidity.png')\n",
    "plt.show()"
   ]
  },
  {
   "cell_type": "markdown",
   "metadata": {},
   "source": [
    "####  Southern Hemisphere - Humidity (%) vs. Latitude Linear Regression"
   ]
  },
  {
   "cell_type": "code",
   "execution_count": 25,
   "metadata": {},
   "outputs": [
    {
     "name": "stdout",
     "output_type": "stream",
     "text": [
      "The r-value is: -0.00434817830132444\n",
      "y = -0.01x + 72.29\n"
     ]
    },
    {
     "data": {
      "image/png": "[encoded data removed]",
      "text/plain": [
       "<Figure size 432x288 with 1 Axes>"
      ]
     },
     "metadata": {
      "needs_background": "light"
     },
     "output_type": "display_data"
    }
   ],
   "source": [
    "x_values = weather_data[weather_data['Lat'] < 0]['Lat']\n",
    "y_values = weather_data[weather_data['Lat'] < 0]['Humidity']\n",
    "\n",
    "(slope, intercept, rvalue, pvalue, stderr) = linregress(x_values, y_values)\n",
    "regress_values = x_values * slope + intercept\n",
    "line_eq = \"y = \" + str(round(slope,2)) + \"x + \" + str(round(intercept,2))\n",
    "\n",
    "\n",
    "plt.scatter(x_values, y_values)\n",
    "plt.plot(x_values, regress_values,\"r-\")\n",
    "plt.annotate(line_eq,(-55,50),fontsize=15,color=\"red\")\n",
    "plt.xlabel(\"Latitude\")\n",
    "plt.ylabel(\"Humidity (%)\")\n",
    "plt.title('Southern Hemisphere - Humdity vs. Latitude Regression')\n",
    "\n",
    "print(f\"The r-value is: {rvalue}\")\n",
    "print(line_eq)\n",
    "plt.savefig('../Images/LinearSouthernHumidity.png')\n",
    "plt.show()"
   ]
  },
  {
   "cell_type": "markdown",
   "metadata": {},
   "source": [
    "####  Northern Hemisphere - Cloudiness (%) vs. Latitude Linear Regression"
   ]
  },
  {
   "cell_type": "code",
   "execution_count": 26,
   "metadata": {},
   "outputs": [
    {
     "name": "stdout",
     "output_type": "stream",
     "text": [
      "The r-value is: 0.1844794000686013\n",
      "y = 0.38x + 44.44\n"
     ]
    },
    {
     "data": {
      "image/png": "[encoded data removed]",
      "text/plain": [
       "<Figure size 432x288 with 1 Axes>"
      ]
     },
     "metadata": {
      "needs_background": "light"
     },
     "output_type": "display_data"
    }
   ],
   "source": [
    "x_values = weather_data[weather_data['Lat'] >= 0]['Lat']\n",
    "y_values = weather_data[weather_data['Lat'] >= 0]['Cloudiness']\n",
    "\n",
    "(slope, intercept, rvalue, pvalue, stderr) = linregress(x_values, y_values)\n",
    "regress_values = x_values * slope + intercept\n",
    "line_eq = \"y = \" + str(round(slope,2)) + \"x + \" + str(round(intercept,2))\n",
    "\n",
    "\n",
    "plt.scatter(x_values, y_values)\n",
    "plt.plot(x_values, regress_values,\"r-\")\n",
    "plt.annotate(line_eq,(40,45),fontsize=15,color=\"red\")\n",
    "plt.xlabel(\"Latitude\")\n",
    "plt.ylabel(\"Cloudiness (%)\")\n",
    "plt.title('Northern Hemisphere - Cloudiness vs. Latitude Regression')\n",
    "\n",
    "print(f\"The r-value is: {rvalue}\")\n",
    "print(line_eq)\n",
    "plt.savefig('../Images/LinearNorthernClouds.png')\n",
    "plt.show()"
   ]
  },
  {
   "cell_type": "markdown",
   "metadata": {},
   "source": [
    "####  Southern Hemisphere - Cloudiness (%) vs. Latitude Linear Regression"
   ]
  },
  {
   "cell_type": "code",
   "execution_count": 27,
   "metadata": {},
   "outputs": [
    {
     "name": "stdout",
     "output_type": "stream",
     "text": [
      "The r-value is: 0.07138690481172028\n",
      "y = 0.2x + 73.2\n"
     ]
    },
    {
     "data": {
      "image/png": "[encoded data removed]",
      "text/plain": [
       "<Figure size 432x288 with 1 Axes>"
      ]
     },
     "metadata": {
      "needs_background": "light"
     },
     "output_type": "display_data"
    }
   ],
   "source": [
    "x_values = weather_data[weather_data['Lat'] < 0]['Lat']\n",
    "y_values = weather_data[weather_data['Lat'] < 0]['Cloudiness']\n",
    "\n",
    "(slope, intercept, rvalue, pvalue, stderr) = linregress(x_values, y_values)\n",
    "regress_values = x_values * slope + intercept\n",
    "line_eq = \"y = \" + str(round(slope,2)) + \"x + \" + str(round(intercept,2))\n",
    "\n",
    "\n",
    "plt.scatter(x_values, y_values)\n",
    "plt.plot(x_values, regress_values,\"r-\")\n",
    "plt.annotate(line_eq,(-50,50),fontsize=15,color=\"red\")\n",
    "plt.xlabel(\"Latitude\")\n",
    "plt.ylabel(\"Cloudiness (%)\")\n",
    "plt.title('Southern Hemisphere - Cloudiness vs. Latitude Regression')\n",
    "\n",
    "print(f\"The r-value is: {rvalue}\")\n",
    "print(line_eq)\n",
    "plt.savefig('../Images/LinearSouthernClouds.png')\n",
    "plt.show()"
   ]
  },
  {
   "cell_type": "markdown",
   "metadata": {},
   "source": [
    "####  Northern Hemisphere - Wind Speed (mph) vs. Latitude Linear Regression"
   ]
  },
  {
   "cell_type": "code",
   "execution_count": 28,
   "metadata": {},
   "outputs": [
    {
     "name": "stdout",
     "output_type": "stream",
     "text": [
      "The r-value is: 0.19098014607857305\n",
      "y = 0.05x + 6.3\n"
     ]
    },
    {
     "data": {
      "image/png": "[encoded data removed]",
      "text/plain": [
       "<Figure size 432x288 with 1 Axes>"
      ]
     },
     "metadata": {
      "needs_background": "light"
     },
     "output_type": "display_data"
    }
   ],
   "source": [
    "x_values = weather_data[weather_data['Lat'] >= 0]['Lat']\n",
    "y_values = weather_data[weather_data['Lat'] >= 0]['Wind Speed']\n",
    "\n",
    "(slope, intercept, rvalue, pvalue, stderr) = linregress(x_values, y_values)\n",
    "regress_values = x_values * slope + intercept\n",
    "line_eq = \"y = \" + str(round(slope,2)) + \"x + \" + str(round(intercept,2))\n",
    "\n",
    "\n",
    "plt.scatter(x_values, y_values)\n",
    "plt.plot(x_values, regress_values,\"r-\")\n",
    "plt.annotate(line_eq,(0,30),fontsize=15,color=\"red\")\n",
    "plt.xlabel(\"Latitude\")\n",
    "plt.ylabel(\"Wind Speed (mph)\")\n",
    "plt.title('Northern Hemisphere - Wind Speed vs. Latitude Regression')\n",
    "\n",
    "print(f\"The r-value is: {rvalue}\")\n",
    "print(line_eq)\n",
    "plt.savefig('../Images/LinearNorthernWind.png')\n",
    "plt.show()"
   ]
  },
  {
   "cell_type": "markdown",
   "metadata": {},
   "source": [
    "####  Southern Hemisphere - Wind Speed (mph) vs. Latitude Linear Regression"
   ]
  },
  {
   "cell_type": "code",
   "execution_count": 30,
   "metadata": {},
   "outputs": [
    {
     "name": "stdout",
     "output_type": "stream",
     "text": [
      "The r-value is: -0.3584069623608399\n",
      "y = -0.16x + 5.11\n"
     ]
    },
    {
     "data": {
      "image/png": "[encoded data removed]",
      "text/plain": [
       "<Figure size 432x288 with 1 Axes>"
      ]
     },
     "metadata": {
      "needs_background": "light"
     },
     "output_type": "display_data"
    }
   ],
   "source": [
    "x_values = weather_data[weather_data['Lat'] < 0]['Lat']\n",
    "y_values = weather_data[weather_data['Lat'] < 0]['Wind Speed']\n",
    "\n",
    "(slope, intercept, rvalue, pvalue, stderr) = linregress(x_values, y_values)\n",
    "regress_values = x_values * slope + intercept\n",
    "line_eq = \"y = \" + str(round(slope,2)) + \"x + \" + str(round(intercept,2))\n",
    "\n",
    "\n",
    "plt.scatter(x_values, y_values)\n",
    "plt.plot(x_values, regress_values,\"r-\")\n",
    "plt.annotate(line_eq,(-50,28),fontsize=15,color=\"red\")\n",
    "plt.xlabel(\"Latitude\")\n",
    "plt.ylabel(\"Wind Speed (mph)\")\n",
    "plt.title('Southern Hemisphere - Wind Speed vs. Latitude Regression')\n",
    "\n",
    "print(f\"The r-value is: {rvalue}\")\n",
    "print(line_eq)\n",
    "plt.savefig('../Images/LinearSouthernWind.png')\n",
    "plt.show()"
   ]
  },
  {
   "cell_type": "code",
   "execution_count": null,
   "metadata": {},
   "outputs": [],
   "source": []
  }
 ],
 "metadata": {
  "anaconda-cloud": {},
  "kernel_info": {
   "name": "python3"
  },
  "kernelspec": {
   "display_name": "Python 3 (ipykernel)",
   "language": "python",
   "name": "python3"
  },
  "language_info": {
   "codemirror_mode": {
    "name": "ipython",
    "version": 3
   },
   "file_extension": ".py",
   "mimetype": "text/x-python",
   "name": "python",
   "nbconvert_exporter": "python",
   "pygments_lexer": "ipython3",
   "version": "3.9.12"
  },
  "latex_envs": {
   "LaTeX_envs_menu_present": true,
   "autoclose": false,
   "autocomplete": true,
   "bibliofile": "biblio.bib",
   "cite_by": "apalike",
   "current_citInitial": 1,
   "eqLabelWithNumbers": true,
   "eqNumInitial": 1,
   "hotkeys": {
    "equation": "Ctrl-E",
    "itemize": "Ctrl-I"
   },
   "labels_anchors": false,
   "latex_user_defs": false,
   "report_style_numbering": false,
   "user_envs_cfg": false
  },
  "nteract": {
   "version": "0.12.3"
  }
 },
 "nbformat": 4,
 "nbformat_minor": 2
}
